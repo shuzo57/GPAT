{
 "cells": [
  {
   "cell_type": "code",
   "execution_count": 1,
   "metadata": {},
   "outputs": [],
   "source": [
    "import warnings\n",
    "warnings.filterwarnings(\"ignore\")\n",
    "\n",
    "import cv2\n",
    "\n",
    "from mmpe.wholebody_estimator import WholeBodyEstimator\n",
    "from mmpe.wholebody_plotter import plot_keypoints_and_connections"
   ]
  },
  {
   "cell_type": "code",
   "execution_count": 2,
   "metadata": {},
   "outputs": [
    {
     "name": "stdout",
     "output_type": "stream",
     "text": [
      "Loads checkpoint by local backend from path: /home/ohwada/GSAT/MMPE/models/rtmpose-l_simcc-coco-wholebody_pt-aic-coco_270e-384x288-eaeb96c8_20230125.pth\n",
      "Loads checkpoint by local backend from path: /home/ohwada/GSAT/MMPE/models/rtmdet_m_8xb32-300e_coco_20220719_112220-229f527c.pth\n",
      "The model and loaded state dict do not match exactly\n",
      "\n",
      "unexpected key in source state_dict: data_preprocessor.mean, data_preprocessor.std\n",
      "\n"
     ]
    }
   ],
   "source": [
    "mmpose_estimator = WholeBodyEstimator()"
   ]
  },
  {
   "cell_type": "code",
   "execution_count": 3,
   "metadata": {},
   "outputs": [
    {
     "name": "stdout",
     "output_type": "stream",
     "text": [
      "Processing frame:  002/04 23:51:45 - mmengine - \u001b[5m\u001b[4m\u001b[33mWARNING\u001b[0m - The current default scope \"mmdet\" is not \"mmpose\", `init_default_scope` will force set the currentdefault scope to \"mmpose\".\n",
      "Processing frame:  102/04 23:51:45 - mmengine - \u001b[5m\u001b[4m\u001b[33mWARNING\u001b[0m - The current default scope \"mmpose\" is not \"mmdet\", `init_default_scope` will force set the currentdefault scope to \"mmdet\".\n",
      "Processing frame:  192\n",
      "Finished processing video.\n"
     ]
    }
   ],
   "source": [
    "video_path = \"../video/sample1.mp4\"\n",
    "save_path = \"../video/sample1_output.mp4\"\n",
    "\n",
    "cap = cv2.VideoCapture(video_path)\n",
    "fps = int(cap.get(cv2.CAP_PROP_FPS))\n",
    "width = int(cap.get(cv2.CAP_PROP_FRAME_WIDTH))\n",
    "height = int(cap.get(cv2.CAP_PROP_FRAME_HEIGHT))\n",
    "fourcc = cv2.VideoWriter_fourcc(*'mp4v')\n",
    "video = cv2.VideoWriter(save_path, fourcc, fps, (width, height))\n",
    "\n",
    "while True:\n",
    "    print(\"\\rProcessing frame: \", int(cap.get(cv2.CAP_PROP_POS_FRAMES)), end=\"\")\n",
    "    ret, frame = cap.read()\n",
    "    if not ret:\n",
    "        break\n",
    "\n",
    "    mmpose_estimator.predict(frame)\n",
    "    keypoints = mmpose_estimator.get_keypoints()\n",
    "\n",
    "    video.write(plot_keypoints_and_connections(frame, keypoints))\n",
    "    \n",
    "print(\"\\nFinished processing video.\")\n",
    "video.release()\n",
    "cap.release()"
   ]
  }
 ],
 "metadata": {
  "kernelspec": {
   "display_name": ".venv",
   "language": "python",
   "name": "python3"
  },
  "language_info": {
   "codemirror_mode": {
    "name": "ipython",
    "version": 3
   },
   "file_extension": ".py",
   "mimetype": "text/x-python",
   "name": "python",
   "nbconvert_exporter": "python",
   "pygments_lexer": "ipython3",
   "version": "3.8.18"
  }
 },
 "nbformat": 4,
 "nbformat_minor": 2
}
